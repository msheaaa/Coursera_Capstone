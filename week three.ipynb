{
    "cells": [
        {
            "cell_type": "code",
            "execution_count": 2,
            "metadata": {},
            "outputs": [
                {
                    "name": "stdout",
                    "output_type": "stream",
                    "text": "Requirement already satisfied: lxml in /opt/conda/envs/Python-3.7-main/lib/python3.7/site-packages (4.5.1)\nRequirement already satisfied: BeautifulSoup4 in /opt/conda/envs/Python-3.7-main/lib/python3.7/site-packages (4.9.1)\nRequirement already satisfied: soupsieve>1.2 in /opt/conda/envs/Python-3.7-main/lib/python3.7/site-packages (from BeautifulSoup4) (2.0.1)\n"
                }
            ],
            "source": "import pandas as pd\n\n!pip install lxml\n!pip install BeautifulSoup4\n\nimport lxml as lxml\n\nurl='https://en.wikipedia.org/wiki/List_of_postal_codes_of_Canada:_M'\ncanada=pd.read_html(url, flavor='html5lib', header=0)[0]\n\n## does not yield any results\n#canada[(canada['Neighbourhood']=='Not assigned') & (canada['Borough']!='Not assigned')]\n\n#removes boroughs that are not assigned\ncanada=canada[canada['Borough']!='Not assigned']# and canada['Neighbourhood']!='Not assigned']\n\n## if a borough is assigned but neighborhood is not assigned, borough = neighborhood\n##yields nothing\ncanada2=canada[canada['Neighbourhood']=='Not assigned']\ncanada2\n\ncanada.reset_index()\n#canada[canada['Neighbourhood']=='Not assigned']\ncanada=pd.DataFrame(canada)\ncanada\n\ncanada.head()\ncanada=canada.groupby(['Postal Code', 'Borough'], sort=False).agg(', '.join)\ncanada.reset_index(inplace=True)\n"
        },
        {
            "cell_type": "code",
            "execution_count": null,
            "metadata": {},
            "outputs": [],
            "source": ""
        }
    ],
    "metadata": {
        "kernelspec": {
            "display_name": "Python 3.7",
            "language": "python",
            "name": "python3"
        },
        "language_info": {
            "codemirror_mode": {
                "name": "ipython",
                "version": 3
            },
            "file_extension": ".py",
            "mimetype": "text/x-python",
            "name": "python",
            "nbconvert_exporter": "python",
            "pygments_lexer": "ipython3",
            "version": "3.7.9"
        }
    },
    "nbformat": 4,
    "nbformat_minor": 1
}